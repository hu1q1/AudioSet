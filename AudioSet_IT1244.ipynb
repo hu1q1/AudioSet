{
  "nbformat": 4,
  "nbformat_minor": 0,
  "metadata": {
    "colab": {
      "provenance": [],
      "collapsed_sections": [
        "dH40dvhYqPNa"
      ],
      "include_colab_link": true
    },
    "kernelspec": {
      "name": "python3",
      "display_name": "Python 3"
    },
    "language_info": {
      "name": "python"
    }
  },
  "cells": [
    {
      "cell_type": "markdown",
      "metadata": {
        "id": "view-in-github",
        "colab_type": "text"
      },
      "source": [
        "<a href=\"https://colab.research.google.com/github/hu1q1/AudioSet/blob/main/AudioSet_IT1244.ipynb\" target=\"_parent\"><img src=\"https://colab.research.google.com/assets/colab-badge.svg\" alt=\"Open In Colab\"/></a>"
      ]
    },
    {
      "cell_type": "markdown",
      "source": [
        "## Initial Setup\n",
        "You need to first run this pip install command to upgrade the tensorflow version. This notebook requires Tensorflow 2.10\n",
        "\n",
        "**Restart your runtime after installation when prompted by the output**"
      ],
      "metadata": {
        "id": "_BZVBQMaxhMm"
      }
    },
    {
      "cell_type": "code",
      "source": [
        "!pip install tensorflow==2.10.0"
      ],
      "metadata": {
        "id": "3ppmQZiixoYQ",
        "colab": {
          "base_uri": "https://localhost:8080/"
        },
        "outputId": "22856335-36a7-4a37-fbe5-cffb1548381e"
      },
      "execution_count": null,
      "outputs": [
        {
          "output_type": "stream",
          "name": "stdout",
          "text": [
            "Looking in indexes: https://pypi.org/simple, https://us-python.pkg.dev/colab-wheels/public/simple/\n",
            "Collecting tensorflow==2.10.0\n",
            "  Downloading tensorflow-2.10.0-cp37-cp37m-manylinux_2_17_x86_64.manylinux2014_x86_64.whl (578.0 MB)\n",
            "\u001b[K     |████████████████████████████████| 578.0 MB 19 kB/s \n",
            "\u001b[?25hRequirement already satisfied: termcolor>=1.1.0 in /usr/local/lib/python3.7/dist-packages (from tensorflow==2.10.0) (2.0.1)\n",
            "Requirement already satisfied: opt-einsum>=2.3.2 in /usr/local/lib/python3.7/dist-packages (from tensorflow==2.10.0) (3.3.0)\n",
            "Collecting keras<2.11,>=2.10.0\n",
            "  Downloading keras-2.10.0-py2.py3-none-any.whl (1.7 MB)\n",
            "\u001b[K     |████████████████████████████████| 1.7 MB 38.8 MB/s \n",
            "\u001b[?25hRequirement already satisfied: packaging in /usr/local/lib/python3.7/dist-packages (from tensorflow==2.10.0) (21.3)\n",
            "Requirement already satisfied: typing-extensions>=3.6.6 in /usr/local/lib/python3.7/dist-packages (from tensorflow==2.10.0) (4.1.1)\n",
            "Requirement already satisfied: keras-preprocessing>=1.1.1 in /usr/local/lib/python3.7/dist-packages (from tensorflow==2.10.0) (1.1.2)\n",
            "Requirement already satisfied: grpcio<2.0,>=1.24.3 in /usr/local/lib/python3.7/dist-packages (from tensorflow==2.10.0) (1.50.0)\n",
            "Requirement already satisfied: protobuf<3.20,>=3.9.2 in /usr/local/lib/python3.7/dist-packages (from tensorflow==2.10.0) (3.17.3)\n",
            "Requirement already satisfied: wrapt>=1.11.0 in /usr/local/lib/python3.7/dist-packages (from tensorflow==2.10.0) (1.14.1)\n",
            "Collecting flatbuffers>=2.0\n",
            "  Downloading flatbuffers-22.9.24-py2.py3-none-any.whl (26 kB)\n",
            "Requirement already satisfied: six>=1.12.0 in /usr/local/lib/python3.7/dist-packages (from tensorflow==2.10.0) (1.15.0)\n",
            "Requirement already satisfied: h5py>=2.9.0 in /usr/local/lib/python3.7/dist-packages (from tensorflow==2.10.0) (3.1.0)\n",
            "Requirement already satisfied: absl-py>=1.0.0 in /usr/local/lib/python3.7/dist-packages (from tensorflow==2.10.0) (1.3.0)\n",
            "Requirement already satisfied: tensorflow-io-gcs-filesystem>=0.23.1 in /usr/local/lib/python3.7/dist-packages (from tensorflow==2.10.0) (0.27.0)\n",
            "Requirement already satisfied: setuptools in /usr/local/lib/python3.7/dist-packages (from tensorflow==2.10.0) (57.4.0)\n",
            "Requirement already satisfied: gast<=0.4.0,>=0.2.1 in /usr/local/lib/python3.7/dist-packages (from tensorflow==2.10.0) (0.4.0)\n",
            "Collecting tensorflow-estimator<2.11,>=2.10.0\n",
            "  Downloading tensorflow_estimator-2.10.0-py2.py3-none-any.whl (438 kB)\n",
            "\u001b[K     |████████████████████████████████| 438 kB 47.2 MB/s \n",
            "\u001b[?25hRequirement already satisfied: astunparse>=1.6.0 in /usr/local/lib/python3.7/dist-packages (from tensorflow==2.10.0) (1.6.3)\n",
            "Requirement already satisfied: google-pasta>=0.1.1 in /usr/local/lib/python3.7/dist-packages (from tensorflow==2.10.0) (0.2.0)\n",
            "Requirement already satisfied: libclang>=13.0.0 in /usr/local/lib/python3.7/dist-packages (from tensorflow==2.10.0) (14.0.6)\n",
            "Collecting tensorboard<2.11,>=2.10\n",
            "  Downloading tensorboard-2.10.1-py3-none-any.whl (5.9 MB)\n",
            "\u001b[K     |████████████████████████████████| 5.9 MB 42.0 MB/s \n",
            "\u001b[?25hRequirement already satisfied: numpy>=1.20 in /usr/local/lib/python3.7/dist-packages (from tensorflow==2.10.0) (1.21.6)\n",
            "Requirement already satisfied: wheel<1.0,>=0.23.0 in /usr/local/lib/python3.7/dist-packages (from astunparse>=1.6.0->tensorflow==2.10.0) (0.37.1)\n",
            "Requirement already satisfied: cached-property in /usr/local/lib/python3.7/dist-packages (from h5py>=2.9.0->tensorflow==2.10.0) (1.5.2)\n",
            "Requirement already satisfied: google-auth<3,>=1.6.3 in /usr/local/lib/python3.7/dist-packages (from tensorboard<2.11,>=2.10->tensorflow==2.10.0) (1.35.0)\n",
            "Requirement already satisfied: markdown>=2.6.8 in /usr/local/lib/python3.7/dist-packages (from tensorboard<2.11,>=2.10->tensorflow==2.10.0) (3.4.1)\n",
            "Requirement already satisfied: requests<3,>=2.21.0 in /usr/local/lib/python3.7/dist-packages (from tensorboard<2.11,>=2.10->tensorflow==2.10.0) (2.23.0)\n",
            "Requirement already satisfied: tensorboard-data-server<0.7.0,>=0.6.0 in /usr/local/lib/python3.7/dist-packages (from tensorboard<2.11,>=2.10->tensorflow==2.10.0) (0.6.1)\n",
            "Requirement already satisfied: google-auth-oauthlib<0.5,>=0.4.1 in /usr/local/lib/python3.7/dist-packages (from tensorboard<2.11,>=2.10->tensorflow==2.10.0) (0.4.6)\n",
            "Requirement already satisfied: werkzeug>=1.0.1 in /usr/local/lib/python3.7/dist-packages (from tensorboard<2.11,>=2.10->tensorflow==2.10.0) (1.0.1)\n",
            "Requirement already satisfied: tensorboard-plugin-wit>=1.6.0 in /usr/local/lib/python3.7/dist-packages (from tensorboard<2.11,>=2.10->tensorflow==2.10.0) (1.8.1)\n",
            "Requirement already satisfied: rsa<5,>=3.1.4 in /usr/local/lib/python3.7/dist-packages (from google-auth<3,>=1.6.3->tensorboard<2.11,>=2.10->tensorflow==2.10.0) (4.9)\n",
            "Requirement already satisfied: pyasn1-modules>=0.2.1 in /usr/local/lib/python3.7/dist-packages (from google-auth<3,>=1.6.3->tensorboard<2.11,>=2.10->tensorflow==2.10.0) (0.2.8)\n",
            "Requirement already satisfied: cachetools<5.0,>=2.0.0 in /usr/local/lib/python3.7/dist-packages (from google-auth<3,>=1.6.3->tensorboard<2.11,>=2.10->tensorflow==2.10.0) (4.2.4)\n",
            "Requirement already satisfied: requests-oauthlib>=0.7.0 in /usr/local/lib/python3.7/dist-packages (from google-auth-oauthlib<0.5,>=0.4.1->tensorboard<2.11,>=2.10->tensorflow==2.10.0) (1.3.1)\n",
            "Requirement already satisfied: importlib-metadata>=4.4 in /usr/local/lib/python3.7/dist-packages (from markdown>=2.6.8->tensorboard<2.11,>=2.10->tensorflow==2.10.0) (4.13.0)\n",
            "Requirement already satisfied: zipp>=0.5 in /usr/local/lib/python3.7/dist-packages (from importlib-metadata>=4.4->markdown>=2.6.8->tensorboard<2.11,>=2.10->tensorflow==2.10.0) (3.9.0)\n",
            "Requirement already satisfied: pyasn1<0.5.0,>=0.4.6 in /usr/local/lib/python3.7/dist-packages (from pyasn1-modules>=0.2.1->google-auth<3,>=1.6.3->tensorboard<2.11,>=2.10->tensorflow==2.10.0) (0.4.8)\n",
            "Requirement already satisfied: idna<3,>=2.5 in /usr/local/lib/python3.7/dist-packages (from requests<3,>=2.21.0->tensorboard<2.11,>=2.10->tensorflow==2.10.0) (2.10)\n",
            "Requirement already satisfied: urllib3!=1.25.0,!=1.25.1,<1.26,>=1.21.1 in /usr/local/lib/python3.7/dist-packages (from requests<3,>=2.21.0->tensorboard<2.11,>=2.10->tensorflow==2.10.0) (1.24.3)\n",
            "Requirement already satisfied: chardet<4,>=3.0.2 in /usr/local/lib/python3.7/dist-packages (from requests<3,>=2.21.0->tensorboard<2.11,>=2.10->tensorflow==2.10.0) (3.0.4)\n",
            "Requirement already satisfied: certifi>=2017.4.17 in /usr/local/lib/python3.7/dist-packages (from requests<3,>=2.21.0->tensorboard<2.11,>=2.10->tensorflow==2.10.0) (2022.9.24)\n",
            "Requirement already satisfied: oauthlib>=3.0.0 in /usr/local/lib/python3.7/dist-packages (from requests-oauthlib>=0.7.0->google-auth-oauthlib<0.5,>=0.4.1->tensorboard<2.11,>=2.10->tensorflow==2.10.0) (3.2.2)\n",
            "Requirement already satisfied: pyparsing!=3.0.5,>=2.0.2 in /usr/local/lib/python3.7/dist-packages (from packaging->tensorflow==2.10.0) (3.0.9)\n",
            "Installing collected packages: tensorflow-estimator, tensorboard, keras, flatbuffers, tensorflow\n",
            "  Attempting uninstall: tensorflow-estimator\n",
            "    Found existing installation: tensorflow-estimator 2.9.0\n",
            "    Uninstalling tensorflow-estimator-2.9.0:\n",
            "      Successfully uninstalled tensorflow-estimator-2.9.0\n",
            "  Attempting uninstall: tensorboard\n",
            "    Found existing installation: tensorboard 2.9.1\n",
            "    Uninstalling tensorboard-2.9.1:\n",
            "      Successfully uninstalled tensorboard-2.9.1\n",
            "  Attempting uninstall: keras\n",
            "    Found existing installation: keras 2.9.0\n",
            "    Uninstalling keras-2.9.0:\n",
            "      Successfully uninstalled keras-2.9.0\n",
            "  Attempting uninstall: flatbuffers\n",
            "    Found existing installation: flatbuffers 1.12\n",
            "    Uninstalling flatbuffers-1.12:\n",
            "      Successfully uninstalled flatbuffers-1.12\n",
            "  Attempting uninstall: tensorflow\n",
            "    Found existing installation: tensorflow 2.9.2\n",
            "    Uninstalling tensorflow-2.9.2:\n",
            "      Successfully uninstalled tensorflow-2.9.2\n",
            "Successfully installed flatbuffers-22.9.24 keras-2.10.0 tensorboard-2.10.1 tensorflow-2.10.0 tensorflow-estimator-2.10.0\n"
          ]
        }
      ]
    },
    {
      "cell_type": "markdown",
      "source": [
        "## Audio Dataset Example\n",
        "\n",
        "https://www.tensorflow.org/tutorials/audio/simple_audio\n",
        "\n",
        "The following chunks of code perform\n",
        "- Data Ingest & Preprocessing\n",
        "- Model Creation\n",
        "- Model Training\n",
        "- Model Evaluation\n",
        "\n",
        "\n",
        "<hr/>\n",
        "\n",
        "## Methodology\n",
        "\n",
        "The data split strategy used is a Train/Validate/Test strategy, following the distribution below\n",
        "\n",
        "| Data Subset | Percentage | Real Count |\n",
        "| ----------- | ---------- | ---------- |\n",
        "| Train       | 90%        | 2700       |\n",
        "| Validate    | 5%         | 150        |\n",
        "| Test        | 5%         | 150        |\n",
        "\n",
        "<hr />\n",
        "\n"
      ],
      "metadata": {
        "id": "-kWBbnfhqd26"
      }
    },
    {
      "cell_type": "markdown",
      "source": [
        "### 1. Ingest the Data\n",
        "\n",
        "The following code chunk ingests the dataset and performs some preprocessing. This includes converting the audio data to a matrix usable as an input for the ML model.\n",
        "\n",
        "This only needs to be run once across multiple model runs"
      ],
      "metadata": {
        "id": "0KQNkz-49B73"
      }
    },
    {
      "cell_type": "code",
      "source": [
        "import tensorflow as tf\n",
        "import pathlib\n",
        "import numpy as np\n",
        "import glob\n",
        "import os\n",
        "import shutil\n",
        "import matplotlib.pyplot as plt\n",
        "\n",
        "from tensorflow.keras import layers as kLayers\n",
        "from tensorflow.keras import models as kModels\n",
        "\n",
        "print(\"TensorFlow version:\", tf.__version__)\n",
        "\n",
        "##################   Downloading the Dataset   ##################\n",
        "DATASET_PATH = '/content/data/filtered'\n",
        "\n",
        "data_dir = pathlib.Path(DATASET_PATH)\n",
        "if not data_dir.exists():\n",
        "  tf.keras.utils.get_file(\n",
        "    'audio_dataset.zip',\n",
        "   origin='https://drive.google.com/uc?export=download&id=1cJnMi4u5AM6an3julR-T0saKUTXSwZ0j',\n",
        "   extract=True,\n",
        "    cache_dir='/content', cache_subdir='data'\n",
        "  )\n",
        "\n",
        "  os.mkdir('/content/data/filtered')\n",
        "  for i in range(10):\n",
        "    os.mkdir('/content/data/filtered/%d' % i)\n",
        "    files = glob.glob('/content/data/Spoken Digit Dataset/data/%d_*.wav' % i)\n",
        "    for f in files:\n",
        "      filename = os.path.basename(f)\n",
        "      shutil.move(f, ('/content/data/filtered/%d/' % i) + str(filename))\n",
        "\n",
        "  shutil.rmtree('/content/data/Spoken Digit Dataset')\n",
        "\n",
        "#####################  Preprocessing Audio  #######################\n",
        "## Trims clips to 2 seconds\n",
        "train_ds, val_ds = tf.keras.utils.audio_dataset_from_directory(\n",
        "    directory=data_dir,\n",
        "    batch_size=64,\n",
        "    validation_split=0.1,\n",
        "    seed=0,\n",
        "    output_sequence_length=32000,\n",
        "    subset='both')\n",
        "\n",
        "label_names = np.array(train_ds.class_names)\n",
        "print(\"Labels:\", label_names)\n",
        "\n",
        "def squeeze(audio, labels):\n",
        "  audio = tf.squeeze(audio, axis=-1)\n",
        "  return audio, labels\n",
        "\n",
        "train_ds = train_ds.map(squeeze, tf.data.AUTOTUNE)\n",
        "val_ds = val_ds.map(squeeze, tf.data.AUTOTUNE)\n",
        "\n",
        "test_ds = val_ds.shard(num_shards=2, index=0)\n",
        "val_ds = val_ds.shard(num_shards=2, index=1)\n",
        "\n",
        "def get_spectrogram(waveform):\n",
        "  spectrogram = tf.signal.stft(\n",
        "      waveform, frame_length=255, frame_step=128)\n",
        "  spectrogram = tf.abs(spectrogram)\n",
        "  spectrogram = spectrogram[..., tf.newaxis]\n",
        "  return spectrogram\n",
        "\n",
        "def make_spec_ds(ds):\n",
        "  return ds.map(\n",
        "      map_func=lambda audio,label: (get_spectrogram(audio), label),\n",
        "      num_parallel_calls=tf.data.AUTOTUNE)\n",
        "\n",
        "train_spectrogram_ds = make_spec_ds(train_ds)\n",
        "val_spectrogram_ds = make_spec_ds(val_ds)\n",
        "test_spectrogram_ds = make_spec_ds(test_ds)\n",
        "\n",
        "train_spectrogram_ds = train_spectrogram_ds.cache().shuffle(10000).prefetch(tf.data.AUTOTUNE)\n",
        "val_spectrogram_ds = val_spectrogram_ds.cache().prefetch(tf.data.AUTOTUNE)\n",
        "test_spectrogram_ds = test_spectrogram_ds.cache().prefetch(tf.data.AUTOTUNE)\n",
        "\n",
        "print('Done Loading Dataset')"
      ],
      "metadata": {
        "colab": {
          "base_uri": "https://localhost:8080/"
        },
        "id": "jSREGhEYqOBO",
        "outputId": "7d1c8d48-e021-4a25-ca72-a9fa7c87d3e2"
      },
      "execution_count": null,
      "outputs": [
        {
          "output_type": "stream",
          "name": "stdout",
          "text": [
            "TensorFlow version: 2.10.0\n",
            "Downloading data from https://drive.google.com/uc?export=download&id=1cJnMi4u5AM6an3julR-T0saKUTXSwZ0j\n",
            "16556965/16556965 [==============================] - 1s 0us/step\n",
            "Found 3000 files belonging to 10 classes.\n",
            "Using 2700 files for training.\n",
            "Using 300 files for validation.\n",
            "Labels: ['0' '1' '2' '3' '4' '5' '6' '7' '8' '9']\n",
            "Done Loading Dataset\n"
          ]
        }
      ]
    },
    {
      "cell_type": "markdown",
      "source": [
        "### 2. Build the Model\n",
        "The following code block builds the model based on the declared structure"
      ],
      "metadata": {
        "id": "fo4MqFky9FPE"
      }
    },
    {
      "cell_type": "code",
      "source": [
        "for sample_spectrogram, sample_label in train_spectrogram_ds.take(1):\n",
        "  break\n",
        "input_shape = sample_spectrogram.shape[1:]\n",
        "#print(input_shape)\n",
        "\n",
        "# Instantiate the `tf.keras.layers.Normalization` layer.\n",
        "norm_layer = kLayers.Normalization()\n",
        "# Fit the state of the layer to the spectrograms\n",
        "# with `Normalization.adapt`.\n",
        "norm_layer.adapt(data=train_spectrogram_ds.map(map_func=lambda spec, label: spec))\n",
        "\n",
        "model = kModels.Sequential([\n",
        "    kLayers.Input(shape=input_shape),\n",
        "    # Downsample the input.\n",
        "    kLayers.Resizing(32, 32),\n",
        "    # Normalize.\n",
        "    norm_layer,\n",
        "    #kLayers.Conv2D(32, 3, activation='relu'),\n",
        "    #kLayers.Conv2D(64, 3, activation='relu'),\n",
        "    #kLayers.MaxPooling2D(),\n",
        "    #kLayers.Dropout(0.5),\n",
        "    kLayers.Flatten(),\n",
        "    kLayers.Dense(128, activation='sigmoid'),\n",
        "    #kLayers.Dropout(0.5),\n",
        "    kLayers.Dense(10, activation='softmax'),\n",
        "])\n",
        "\n",
        "model.summary()"
      ],
      "metadata": {
        "id": "Y6kdYfks9IYg",
        "colab": {
          "base_uri": "https://localhost:8080/"
        },
        "outputId": "fa73c639-de16-4898-a613-27317bb036cb"
      },
      "execution_count": null,
      "outputs": [
        {
          "output_type": "stream",
          "name": "stdout",
          "text": [
            "Model: \"sequential_2\"\n",
            "_________________________________________________________________\n",
            " Layer (type)                Output Shape              Param #   \n",
            "=================================================================\n",
            " resizing_3 (Resizing)       (None, 32, 32, 1)         0         \n",
            "                                                                 \n",
            " normalization_3 (Normalizat  (None, 32, 32, 1)        3         \n",
            " ion)                                                            \n",
            "                                                                 \n",
            " flatten_2 (Flatten)         (None, 1024)              0         \n",
            "                                                                 \n",
            " dense_4 (Dense)             (None, 128)               131200    \n",
            "                                                                 \n",
            " dense_5 (Dense)             (None, 10)                1290      \n",
            "                                                                 \n",
            "=================================================================\n",
            "Total params: 132,493\n",
            "Trainable params: 132,490\n",
            "Non-trainable params: 3\n",
            "_________________________________________________________________\n"
          ]
        }
      ]
    },
    {
      "cell_type": "markdown",
      "source": [
        "start of experimenting. first with dnn"
      ],
      "metadata": {
        "id": "LvRBuhK16LqB"
      }
    },
    {
      "cell_type": "code",
      "source": [
        "for sample_spectrogram, sample_label in train_spectrogram_ds.take(1):\n",
        "  break\n",
        "input_shape = sample_spectrogram.shape[1:]\n",
        "\n",
        "# Instantiate the `tf.keras.layers.Normalization` layer.\n",
        "norm_layer = kLayers.Normalization()\n",
        "# Fit the state of the layer to the spectrograms\n",
        "# with `Normalization.adapt`.\n",
        "norm_layer.adapt(data=train_spectrogram_ds.map(map_func=lambda spec, label: spec))\n",
        "\n",
        "model = kModels.Sequential([\n",
        "    kLayers.Input(shape=input_shape),\n",
        "    # Downsample the input.\n",
        "    kLayers.Resizing(64, 32),\n",
        "    kLayers.Flatten(),\n",
        "    # Normalize.\n",
        "    #norm_layer,\n",
        "    kLayers.Dense(2048, activation='relu'),\n",
        "    kLayers.Dense(2048, activation='relu'),\n",
        "    kLayers.Dense(88, activation='relu'),\n",
        "    kLayers.Dropout(0.25),\n",
        "    kLayers.Dense(256, activation='relu'),\n",
        "    kLayers.Dense(128, activation='relu'),\n",
        "    kLayers.Dropout(0.25),\n",
        "    #kLayers.Conv2D(32, 3, activation='relu'),\n",
        "    #kLayers.Conv2D(64, 3, activation='relu'),\n",
        "    #kLayers.MaxPooling2D(),\n",
        "    #kLayers.Dropout(0.5),\n",
        "    #kLayers.Dense(128, activation='sigmoid'),\n",
        "    #kLayers.Dropout(0.5),\n",
        "    kLayers.Dense(10, activation='softmax'),\n",
        "])\n",
        "\n",
        "model.summary()"
      ],
      "metadata": {
        "colab": {
          "base_uri": "https://localhost:8080/"
        },
        "id": "6h-xFdzs6KgK",
        "outputId": "7b03f1f0-8fb1-460e-f80a-188503756f64"
      },
      "execution_count": null,
      "outputs": [
        {
          "output_type": "stream",
          "name": "stdout",
          "text": [
            "Model: \"sequential\"\n",
            "_________________________________________________________________\n",
            " Layer (type)                Output Shape              Param #   \n",
            "=================================================================\n",
            " resizing (Resizing)         (None, 64, 32, 1)         0         \n",
            "                                                                 \n",
            " flatten (Flatten)           (None, 2048)              0         \n",
            "                                                                 \n",
            " dense (Dense)               (None, 2048)              4196352   \n",
            "                                                                 \n",
            " dense_1 (Dense)             (None, 2048)              4196352   \n",
            "                                                                 \n",
            " dense_2 (Dense)             (None, 88)                180312    \n",
            "                                                                 \n",
            " dropout (Dropout)           (None, 88)                0         \n",
            "                                                                 \n",
            " dense_3 (Dense)             (None, 256)               22784     \n",
            "                                                                 \n",
            " dense_4 (Dense)             (None, 128)               32896     \n",
            "                                                                 \n",
            " dropout_1 (Dropout)         (None, 128)               0         \n",
            "                                                                 \n",
            " dense_5 (Dense)             (None, 10)                1290      \n",
            "                                                                 \n",
            "=================================================================\n",
            "Total params: 8,629,986\n",
            "Trainable params: 8,629,986\n",
            "Non-trainable params: 0\n",
            "_________________________________________________________________\n"
          ]
        }
      ]
    },
    {
      "cell_type": "markdown",
      "source": [
        "now try cnn"
      ],
      "metadata": {
        "id": "K8_17W9--YUZ"
      }
    },
    {
      "cell_type": "code",
      "source": [
        "for sample_spectrogram, sample_label in train_spectrogram_ds.take(1):\n",
        "  break\n",
        "input_shape = sample_spectrogram.shape[1:]\n",
        "\n",
        "# Instantiate the `tf.keras.layers.Normalization` layer.\n",
        "norm_layer = kLayers.Normalization()\n",
        "# Fit the state of the layer to the spectrograms\n",
        "# with `Normalization.adapt`.\n",
        "norm_layer.adapt(data=train_spectrogram_ds.map(map_func=lambda spec, label: spec))\n",
        "\n",
        "model = kModels.Sequential([\n",
        "    kLayers.Input(shape=input_shape),\n",
        "    # Downsample the input.\n",
        "    kLayers.Resizing(128, 64),\n",
        "    # Normalize.\n",
        "    norm_layer,\n",
        "    kLayers.Conv2D(64, 6),\n",
        "    kLayers.Conv2D(44, 3),\n",
        "    kLayers.MaxPooling2D(),\n",
        "    kLayers.Dropout(0.5),\n",
        "    kLayers.Flatten(),\n",
        "    kLayers.Dense(128, activation='relu'),\n",
        "    kLayers.Dense(128, activation='sigmoid'),\n",
        "    kLayers.Dropout(0.5),\n",
        "    kLayers.Dense(10, activation='softmax'),\n",
        "])\n",
        "\n",
        "model.summary()"
      ],
      "metadata": {
        "colab": {
          "base_uri": "https://localhost:8080/"
        },
        "id": "PPUI2Ged-anQ",
        "outputId": "183b3442-2e69-4499-c117-5ec2c590c557"
      },
      "execution_count": null,
      "outputs": [
        {
          "output_type": "stream",
          "name": "stdout",
          "text": [
            "Model: \"sequential_3\"\n",
            "_________________________________________________________________\n",
            " Layer (type)                Output Shape              Param #   \n",
            "=================================================================\n",
            " resizing_4 (Resizing)       (None, 128, 64, 1)        0         \n",
            "                                                                 \n",
            " normalization_4 (Normalizat  (None, 128, 64, 1)       3         \n",
            " ion)                                                            \n",
            "                                                                 \n",
            " conv2d_4 (Conv2D)           (None, 123, 59, 64)       2368      \n",
            "                                                                 \n",
            " conv2d_5 (Conv2D)           (None, 121, 57, 44)       25388     \n",
            "                                                                 \n",
            " max_pooling2d_2 (MaxPooling  (None, 60, 28, 44)       0         \n",
            " 2D)                                                             \n",
            "                                                                 \n",
            " dropout_2 (Dropout)         (None, 60, 28, 44)        0         \n",
            "                                                                 \n",
            " flatten_3 (Flatten)         (None, 73920)             0         \n",
            "                                                                 \n",
            " dense_6 (Dense)             (None, 128)               9461888   \n",
            "                                                                 \n",
            " dense_7 (Dense)             (None, 128)               16512     \n",
            "                                                                 \n",
            " dropout_3 (Dropout)         (None, 128)               0         \n",
            "                                                                 \n",
            " dense_8 (Dense)             (None, 10)                1290      \n",
            "                                                                 \n",
            "=================================================================\n",
            "Total params: 9,507,449\n",
            "Trainable params: 9,507,446\n",
            "Non-trainable params: 3\n",
            "_________________________________________________________________\n"
          ]
        }
      ]
    },
    {
      "cell_type": "markdown",
      "source": [
        "cnn follow architecture 4"
      ],
      "metadata": {
        "id": "7Q2lklBgSv0o"
      }
    },
    {
      "cell_type": "code",
      "source": [
        "for sample_spectrogram, sample_label in train_spectrogram_ds.take(1):\n",
        "  break\n",
        "input_shape = sample_spectrogram.shape[1:]\n",
        "\n",
        "# Instantiate the `tf.keras.layers.Normalization` layer.\n",
        "norm_layer = kLayers.Normalization()\n",
        "# Fit the state of the layer to the spectrograms\n",
        "# with `Normalization.adapt`.\n",
        "norm_layer.adapt(data=train_spectrogram_ds.map(map_func=lambda spec, label: spec))\n",
        "\n",
        "model = kModels.Sequential([\n",
        "    kLayers.Input(shape=input_shape),\n",
        "    # Downsample the input.\n",
        "    kLayers.Resizing(64, 32),\n",
        "    # Normalize.\n",
        "    norm_layer,\n",
        "    kLayers.Conv2D(64, 6),\n",
        "    kLayers.Conv2D(44, 3),\n",
        "    kLayers.MaxPooling2D(),\n",
        "    kLayers.Dropout(0.5),\n",
        "    kLayers.Flatten(),\n",
        "    kLayers.Dense(256, activation='relu'),\n",
        "    kLayers.Dense(128, activation='relu'),\n",
        "    kLayers.Dense(64, activation='sigmoid'),\n",
        "    kLayers.Dropout(0.5),\n",
        "    kLayers.Dense(10, activation='softmax'),\n",
        "])\n",
        "\n",
        "model.summary()"
      ],
      "metadata": {
        "colab": {
          "base_uri": "https://localhost:8080/"
        },
        "id": "7Vz_wz1lSzIf",
        "outputId": "9fe46ab4-ed52-4ea9-d90f-fcd97e0c190d"
      },
      "execution_count": null,
      "outputs": [
        {
          "output_type": "stream",
          "name": "stdout",
          "text": [
            "Model: \"sequential_1\"\n",
            "_________________________________________________________________\n",
            " Layer (type)                Output Shape              Param #   \n",
            "=================================================================\n",
            " resizing_1 (Resizing)       (None, 64, 32, 1)         0         \n",
            "                                                                 \n",
            " conv2d_2 (Conv2D)           (None, 59, 27, 64)        2368      \n",
            "                                                                 \n",
            " conv2d_3 (Conv2D)           (None, 57, 25, 44)        25388     \n",
            "                                                                 \n",
            " max_pooling2d_1 (MaxPooling  (None, 28, 12, 44)       0         \n",
            " 2D)                                                             \n",
            "                                                                 \n",
            " dropout_2 (Dropout)         (None, 28, 12, 44)        0         \n",
            "                                                                 \n",
            " flatten_1 (Flatten)         (None, 14784)             0         \n",
            "                                                                 \n",
            " dense_4 (Dense)             (None, 256)               3784960   \n",
            "                                                                 \n",
            " dense_5 (Dense)             (None, 128)               32896     \n",
            "                                                                 \n",
            " dense_6 (Dense)             (None, 64)                8256      \n",
            "                                                                 \n",
            " dropout_3 (Dropout)         (None, 64)                0         \n",
            "                                                                 \n",
            " dense_7 (Dense)             (None, 10)                650       \n",
            "                                                                 \n",
            "=================================================================\n",
            "Total params: 3,854,518\n",
            "Trainable params: 3,854,518\n",
            "Non-trainable params: 0\n",
            "_________________________________________________________________\n"
          ]
        }
      ]
    },
    {
      "cell_type": "markdown",
      "source": [
        "### 3. Training the Model\n",
        "\n",
        "The following code block trains the model"
      ],
      "metadata": {
        "id": "jSzcVjZB9J-N"
      }
    },
    {
      "cell_type": "code",
      "source": [
        "model.compile(\n",
        "    optimizer=tf.keras.optimizers.SGD(),\n",
        "    loss=tf.keras.losses.SparseCategoricalCrossentropy(),\n",
        "    metrics=['accuracy'],\n",
        ")\n",
        "\n",
        "EPOCHS = 20\n",
        "history = model.fit(\n",
        "    train_spectrogram_ds,\n",
        "    validation_data=val_spectrogram_ds,\n",
        "    epochs=EPOCHS,\n",
        "    # callbacks=tf.keras.callbacks.EarlyStopping(verbose=1, patience=2),\n",
        ")"
      ],
      "metadata": {
        "id": "s3uBcsqq9LtL",
        "colab": {
          "base_uri": "https://localhost:8080/"
        },
        "outputId": "6da5c7a1-17f1-4a52-e77c-4646c26b420b"
      },
      "execution_count": null,
      "outputs": [
        {
          "output_type": "stream",
          "name": "stdout",
          "text": [
            "Epoch 1/20\n",
            "43/43 [==============================] - 129s 3s/step - loss: 2.3803 - accuracy: 0.1467 - val_loss: 1.9890 - val_accuracy: 0.3516\n",
            "Epoch 2/20\n",
            "43/43 [==============================] - 129s 3s/step - loss: 2.0193 - accuracy: 0.2707 - val_loss: 1.6342 - val_accuracy: 0.5000\n",
            "Epoch 3/20\n",
            "43/43 [==============================] - 129s 3s/step - loss: 1.7404 - accuracy: 0.3667 - val_loss: 1.4149 - val_accuracy: 0.6797\n",
            "Epoch 4/20\n",
            "43/43 [==============================] - 128s 3s/step - loss: 1.5451 - accuracy: 0.4404 - val_loss: 1.2409 - val_accuracy: 0.7422\n",
            "Epoch 5/20\n",
            "43/43 [==============================] - 133s 3s/step - loss: 1.4129 - accuracy: 0.5015 - val_loss: 1.1628 - val_accuracy: 0.6953\n",
            "Epoch 6/20\n",
            "43/43 [==============================] - 129s 3s/step - loss: 1.2956 - accuracy: 0.5559 - val_loss: 1.0564 - val_accuracy: 0.7500\n",
            "Epoch 7/20\n",
            "43/43 [==============================] - 129s 3s/step - loss: 1.2158 - accuracy: 0.5700 - val_loss: 0.9816 - val_accuracy: 0.7500\n",
            "Epoch 8/20\n",
            "43/43 [==============================] - 129s 3s/step - loss: 1.1485 - accuracy: 0.6037 - val_loss: 0.9190 - val_accuracy: 0.7578\n",
            "Epoch 9/20\n",
            "43/43 [==============================] - 131s 3s/step - loss: 1.0808 - accuracy: 0.6319 - val_loss: 0.8774 - val_accuracy: 0.8359\n",
            "Epoch 10/20\n",
            "43/43 [==============================] - 130s 3s/step - loss: 1.0204 - accuracy: 0.6463 - val_loss: 0.8434 - val_accuracy: 0.7812\n",
            "Epoch 11/20\n",
            "43/43 [==============================] - 129s 3s/step - loss: 0.9724 - accuracy: 0.6589 - val_loss: 0.7910 - val_accuracy: 0.8047\n",
            "Epoch 12/20\n",
            "43/43 [==============================] - 129s 3s/step - loss: 0.9173 - accuracy: 0.6959 - val_loss: 0.7334 - val_accuracy: 0.8125\n",
            "Epoch 13/20\n",
            "43/43 [==============================] - 129s 3s/step - loss: 0.8859 - accuracy: 0.6963 - val_loss: 0.7222 - val_accuracy: 0.7969\n",
            "Epoch 14/20\n",
            "43/43 [==============================] - 126s 3s/step - loss: 0.8501 - accuracy: 0.7170 - val_loss: 0.6870 - val_accuracy: 0.7969\n",
            "Epoch 15/20\n",
            "43/43 [==============================] - 129s 3s/step - loss: 0.8210 - accuracy: 0.7185 - val_loss: 0.6786 - val_accuracy: 0.7891\n",
            "Epoch 16/20\n",
            "43/43 [==============================] - 129s 3s/step - loss: 0.7954 - accuracy: 0.7359 - val_loss: 0.6337 - val_accuracy: 0.8359\n",
            "Epoch 17/20\n",
            "43/43 [==============================] - 129s 3s/step - loss: 0.7707 - accuracy: 0.7356 - val_loss: 0.6349 - val_accuracy: 0.8203\n",
            "Epoch 18/20\n",
            "43/43 [==============================] - 129s 3s/step - loss: 0.7408 - accuracy: 0.7581 - val_loss: 0.6018 - val_accuracy: 0.8359\n",
            "Epoch 19/20\n",
            "43/43 [==============================] - 130s 3s/step - loss: 0.7255 - accuracy: 0.7544 - val_loss: 0.5721 - val_accuracy: 0.8438\n",
            "Epoch 20/20\n",
            "43/43 [==============================] - 130s 3s/step - loss: 0.7001 - accuracy: 0.7774 - val_loss: 0.5716 - val_accuracy: 0.8359\n"
          ]
        }
      ]
    },
    {
      "cell_type": "markdown",
      "source": [
        "### 4. Printing Statistics\n",
        "\n",
        "The following code block prints the training statistics"
      ],
      "metadata": {
        "id": "h_aWs1wZ_G-3"
      }
    },
    {
      "cell_type": "code",
      "source": [
        "metrics = history.history\n",
        "plt.figure(figsize=(16,6))\n",
        "plt.subplot(1,2,1)\n",
        "plt.plot(history.epoch, metrics['loss'], metrics['val_loss'])\n",
        "plt.legend(['loss', 'val_loss'])\n",
        "plt.ylim([0, max(plt.ylim())])\n",
        "plt.xlabel('Epoch')\n",
        "plt.ylabel('Loss [CrossEntropy]')\n",
        "\n",
        "plt.subplot(1,2,2)\n",
        "plt.plot(history.epoch, 100*np.array(metrics['accuracy']), 100*np.array(metrics['val_accuracy']))\n",
        "plt.legend(['accuracy', 'val_accuracy'])\n",
        "plt.ylim([0, 100])\n",
        "plt.xlabel('Epoch')\n",
        "plt.ylabel('Accuracy [%]')"
      ],
      "metadata": {
        "id": "SOBuiVQj_Ke2",
        "colab": {
          "base_uri": "https://localhost:8080/",
          "height": 409
        },
        "outputId": "2d41d674-a755-4f23-dbd0-18d2047d1a8a"
      },
      "execution_count": null,
      "outputs": [
        {
          "output_type": "execute_result",
          "data": {
            "text/plain": [
              "Text(0, 0.5, 'Accuracy [%]')"
            ]
          },
          "metadata": {},
          "execution_count": 5
        },
        {
          "output_type": "display_data",
          "data": {
            "text/plain": [
              "<Figure size 1152x432 with 2 Axes>"
            ],
            "image/png": "[encoded data removed]"
          },
          "metadata": {
            "needs_background": "light"
          }
        }
      ]
    },
    {
      "cell_type": "markdown",
      "source": [
        "### 5. Evaluating Model Performance\n",
        "\n",
        "This evaluates the model on the hold-out test set, which has never been seen during training"
      ],
      "metadata": {
        "id": "ctQkQzE1_MUC"
      }
    },
    {
      "cell_type": "code",
      "source": [
        "model.evaluate(test_spectrogram_ds)"
      ],
      "metadata": {
        "id": "ELZvtPzK_R-m",
        "colab": {
          "base_uri": "https://localhost:8080/"
        },
        "outputId": "b575dfa4-6ec6-4f5b-c1ad-33b380589909"
      },
      "execution_count": null,
      "outputs": [
        {
          "output_type": "stream",
          "name": "stdout",
          "text": [
            "3/3 [==============================] - 1s 95ms/step - loss: 1.6407 - accuracy: 0.5058\n"
          ]
        },
        {
          "output_type": "execute_result",
          "data": {
            "text/plain": [
              "[1.6406612396240234, 0.5058139562606812]"
            ]
          },
          "metadata": {},
          "execution_count": 11
        }
      ]
    },
    {
      "cell_type": "markdown",
      "source": [
        "### 6. Save the Model\n",
        "\n",
        "The following code chunk saves the model"
      ],
      "metadata": {
        "id": "XAF65-hu_T7I"
      }
    },
    {
      "cell_type": "code",
      "source": [
        "model.save(\"output_model\")\n",
        "# The model should be saved to the filesystem"
      ],
      "metadata": {
        "id": "ZOU2F43T_WYH"
      },
      "execution_count": null,
      "outputs": []
    }
  ]
}